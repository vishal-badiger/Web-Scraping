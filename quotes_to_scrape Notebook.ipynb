{
 "cells": [
  {
   "cell_type": "code",
   "execution_count": 1,
   "id": "55ce3d2e",
   "metadata": {},
   "outputs": [],
   "source": [
    "import requests\n",
    "import bs4"
   ]
  },
  {
   "cell_type": "code",
   "execution_count": 2,
   "id": "d2175b74",
   "metadata": {},
   "outputs": [],
   "source": [
    "result = requests.get(\"https://quotes.toscrape.com/\")"
   ]
  },
  {
   "cell_type": "code",
   "execution_count": 3,
   "id": "5c98e099",
   "metadata": {},
   "outputs": [
    {
     "data": {
      "text/plain": [
       "'<!DOCTYPE html>\\n<html lang=\"en\">\\n<head>\\n\\t<meta charset=\"UTF-8\">\\n\\t<title>Quotes to Scrape</title>\\n    <link rel=\"stylesheet\" href=\"/static/bootstrap.min.css\">\\n    <link rel=\"stylesheet\" href=\"/static/main.css\">\\n</head>\\n<body>\\n    <div class=\"container\">\\n        <div class=\"row header-box\">\\n            <div class=\"col-md-8\">\\n                <h1>\\n                    <a href=\"/\" style=\"text-decoration: none\">Quotes to Scrape</a>\\n                </h1>\\n            </div>\\n            <div class=\"col-md'"
      ]
     },
     "execution_count": 3,
     "metadata": {},
     "output_type": "execute_result"
    }
   ],
   "source": [
    "# grab first 500 characters, just to get a rough outline of html doc\n",
    "result.text[:500]"
   ]
  },
  {
   "cell_type": "code",
   "execution_count": 4,
   "id": "03c3106e",
   "metadata": {},
   "outputs": [],
   "source": [
    "# convert into BeautifulSoup object\n",
    "soup = bs4.BeautifulSoup(result.text, 'lxml')"
   ]
  },
  {
   "cell_type": "markdown",
   "id": "04b8a919",
   "metadata": {},
   "source": [
    "# TASK: Extract names of all unique authors on first page "
   ]
  },
  {
   "cell_type": "code",
   "execution_count": 5,
   "id": "0ed2988f",
   "metadata": {},
   "outputs": [
    {
     "name": "stdout",
     "output_type": "stream",
     "text": [
      "Page 1:\n"
     ]
    },
    {
     "data": {
      "text/plain": [
       "{'Albert Einstein',\n",
       " 'André Gide',\n",
       " 'Eleanor Roosevelt',\n",
       " 'J.K. Rowling',\n",
       " 'Jane Austen',\n",
       " 'Marilyn Monroe',\n",
       " 'Steve Martin',\n",
       " 'Thomas A. Edison'}"
      ]
     },
     "execution_count": 5,
     "metadata": {},
     "output_type": "execute_result"
    }
   ],
   "source": [
    "#emty set to begin with because author names will be repeated\n",
    "authors = set()\n",
    "\n",
    "#add each author to set\n",
    "for item in soup.select(\".author\"):\n",
    "    authors.add(item.getText())\n",
    "\n",
    "print(\"Page 1:\")\n",
    "authors"
   ]
  },
  {
   "cell_type": "markdown",
   "id": "1d9efeba",
   "metadata": {},
   "source": [
    "# TASK: Extract names of all unique authors for each page on website# "
   ]
  },
  {
   "cell_type": "markdown",
   "id": "e04ddf78",
   "metadata": {},
   "source": [
    "All pages on website follow a format of 'http://quotes.toscrape.com/page/1/', where the number 1 represents the page number that can be replaced with any number"
   ]
  },
  {
   "cell_type": "code",
   "execution_count": 6,
   "id": "0c003347",
   "metadata": {},
   "outputs": [],
   "source": [
    "base_url = \"http://quotes.toscrape.com/page/{}/\""
   ]
  },
  {
   "cell_type": "code",
   "execution_count": 7,
   "id": "1aa44460",
   "metadata": {},
   "outputs": [
    {
     "data": {
      "text/plain": [
       "'http://quotes.toscrape.com/page/1/'"
      ]
     },
     "execution_count": 7,
     "metadata": {},
     "output_type": "execute_result"
    }
   ],
   "source": [
    "base_url.format('1') #example"
   ]
  },
  {
   "cell_type": "markdown",
   "id": "bc3b610f",
   "metadata": {},
   "source": [
    "Any pages after the last page (there are 10 pages total), will contain text that reads \"No Quotes Found!\". The class that contains this text is 'col-md-8'"
   ]
  },
  {
   "cell_type": "code",
   "execution_count": 8,
   "id": "351d670d",
   "metadata": {},
   "outputs": [],
   "source": [
    "res = requests.get(base_url.format('11')) #go to page 11\n",
    "soup = bs4.BeautifulSoup(res.text, 'lxml')"
   ]
  },
  {
   "cell_type": "code",
   "execution_count": 9,
   "id": "497a7d48",
   "metadata": {},
   "outputs": [
    {
     "data": {
      "text/plain": [
       "[<div class=\"col-md-8\">\n",
       " <h1>\n",
       " <a href=\"/\" style=\"text-decoration: none\">Quotes to Scrape</a>\n",
       " </h1>\n",
       " </div>,\n",
       " <div class=\"col-md-8\">\n",
       " \n",
       " No quotes found!\n",
       " \n",
       "     <nav>\n",
       " <ul class=\"pager\">\n",
       " <li class=\"previous\">\n",
       " <a href=\"/page/10/\"><span aria-hidden=\"true\">←</span> Previous</a>\n",
       " </li>\n",
       " </ul>\n",
       " </nav>\n",
       " </div>]"
      ]
     },
     "execution_count": 9,
     "metadata": {},
     "output_type": "execute_result"
    }
   ],
   "source": [
    "soup.select('.col-md-8')"
   ]
  },
  {
   "cell_type": "code",
   "execution_count": 10,
   "id": "9184ebd8",
   "metadata": {},
   "outputs": [
    {
     "name": "stdout",
     "output_type": "stream",
     "text": [
      "Page 1:\n",
      "{'Steve Martin', 'Eleanor Roosevelt', 'André Gide', 'J.K. Rowling', 'Marilyn Monroe', 'Albert Einstein', 'Jane Austen', 'Thomas A. Edison'} \n",
      "\n",
      "Page 2:\n",
      "{'Douglas Adams', 'Friedrich Nietzsche', 'Allen Saunders', 'J.K. Rowling', 'Marilyn Monroe', 'Albert Einstein', 'Elie Wiesel', 'Bob Marley', 'Mark Twain', 'Dr. Seuss'} \n",
      "\n",
      "Page 3:\n",
      "{'Garrison Keillor', 'Mother Teresa', 'Jim Henson', 'J.K. Rowling', 'Pablo Neruda', 'Ralph Waldo Emerson', 'Albert Einstein', 'Bob Marley', 'Dr. Seuss'} \n",
      "\n",
      "Page 4:\n",
      "{'Charles M. Schulz', 'William Nicholson', 'Mother Teresa', 'Jorge Luis Borges', 'J.K. Rowling', 'George Eliot', 'Albert Einstein', 'Bob Marley', 'Dr. Seuss'} \n",
      "\n",
      "Page 5:\n",
      "{'James Baldwin', 'J.K. Rowling', 'Marilyn Monroe', 'Martin Luther King Jr.', 'Albert Einstein', 'George R.R. Martin', 'C.S. Lewis'} \n",
      "\n",
      "Page 6:\n",
      "{'Haruki Murakami', 'Eleanor Roosevelt', 'Stephenie Meyer', 'Alexandre Dumas fils', 'Helen Keller', 'Marilyn Monroe', 'George Bernard Shaw', 'Albert Einstein', 'Jane Austen', 'Ernest Hemingway'} \n",
      "\n",
      "Page 7:\n",
      "{'Suzanne Collins', 'J.K. Rowling', 'Ralph Waldo Emerson', 'J.R.R. Tolkien', 'C.S. Lewis', 'Charles Bukowski', 'Mark Twain', 'Ernest Hemingway', 'Dr. Seuss'} \n",
      "\n",
      "Page 8:\n",
      "{'Terry Pratchett', 'J.D. Salinger', 'George Carlin', 'W.C. Fields', 'John Lennon', 'Ayn Rand', 'Charles Bukowski', 'Mark Twain', 'Alfred Tennyson', 'Dr. Seuss'} \n",
      "\n",
      "Page 9:\n",
      "{'J.K. Rowling', 'C.S. Lewis', 'Albert Einstein', 'Jane Austen', 'Mark Twain'} \n",
      "\n",
      "Page 10:\n",
      "{'Dr. Seuss', 'J.K. Rowling', \"Madeleine L'Engle\", 'Khaled Hosseini', 'George R.R. Martin', 'Mark Twain', 'J.M. Barrie', 'E.E. Cummings', 'Harper Lee', 'Jimi Hendrix'} \n",
      "\n",
      "Last page is 10\n"
     ]
    }
   ],
   "source": [
    "# iterator used to refer to page number\n",
    "i = 0\n",
    "\n",
    "while True:\n",
    "    '''\n",
    "    Loop through each page and print unique authors on that page\n",
    "    '''\n",
    "    \n",
    "    i += 1 # go to next page\n",
    "    authors = set() # set for name of authors\n",
    "    no_quotes = False # boolean to check if there are quotes on page\n",
    "    \n",
    "    res = requests.get(base_url.format(i))\n",
    "    soup = bs4.BeautifulSoup(res.text,'lxml')\n",
    "\n",
    "    # check if the \"No quotes found!\" is on current page\n",
    "    for div_class in soup.select('.col-md-8'):\n",
    "        if (\"No quotes found!\" in div_class.text) == True:\n",
    "            no_quotes = True\n",
    "            print(\"Last page is\",i-1)\n",
    "            break\n",
    "        else:\n",
    "            pass\n",
    "    \n",
    "    # End loop if there are no quotes\n",
    "    if no_quotes == True:\n",
    "        break\n",
    "    else:\n",
    "        pass\n",
    "    \n",
    "    # add each unique author to set\n",
    "    for item in soup.select(\".author\"):\n",
    "        authors.add(item.text)\n",
    "        \n",
    "    print(\"Page \" + str(i) + \":\")\n",
    "    print(authors,\"\\n\")"
   ]
  },
  {
   "cell_type": "markdown",
   "id": "224b9219",
   "metadata": {},
   "source": [
    "# TASK: Create a list of all the quotes on the first page"
   ]
  },
  {
   "cell_type": "code",
   "execution_count": 11,
   "id": "ecb18b62",
   "metadata": {},
   "outputs": [],
   "source": [
    "res = requests.get(\"http://quotes.toscrape.com/\")\n",
    "soup = bs4.BeautifulSoup(result.text, \"lxml\")"
   ]
  },
  {
   "cell_type": "code",
   "execution_count": 13,
   "id": "1c573375",
   "metadata": {},
   "outputs": [
    {
     "name": "stdout",
     "output_type": "stream",
     "text": [
      "Page 1:\n"
     ]
    },
    {
     "data": {
      "text/plain": [
       "['“The world as we have created it is a process of our thinking. It cannot be changed without changing our thinking.”',\n",
       " '“It is our choices, Harry, that show what we truly are, far more than our abilities.”',\n",
       " '“There are only two ways to live your life. One is as though nothing is a miracle. The other is as though everything is a miracle.”',\n",
       " '“The person, be it gentleman or lady, who has not pleasure in a good novel, must be intolerably stupid.”',\n",
       " \"“Imperfection is beauty, madness is genius and it's better to be absolutely ridiculous than absolutely boring.”\",\n",
       " '“Try not to become a man of success. Rather become a man of value.”',\n",
       " '“It is better to be hated for what you are than to be loved for what you are not.”',\n",
       " \"“I have not failed. I've just found 10,000 ways that won't work.”\",\n",
       " \"“A woman is like a tea bag; you never know how strong it is until it's in hot water.”\",\n",
       " '“A day without sunshine is like, you know, night.”']"
      ]
     },
     "execution_count": 13,
     "metadata": {},
     "output_type": "execute_result"
    }
   ],
   "source": [
    "quotes = []\n",
    "\n",
    "#add each quote to the list\n",
    "for quote in soup.select(\".text\"):\n",
    "    quotes.append(quote.text)\n",
    "    \n",
    "print(\"Page 1:\")\n",
    "quotes"
   ]
  },
  {
   "cell_type": "markdown",
   "id": "d64dadbc",
   "metadata": {},
   "source": [
    "We could also print out the quotes with their corresponding author"
   ]
  },
  {
   "cell_type": "code",
   "execution_count": 14,
   "id": "f434c006",
   "metadata": {},
   "outputs": [
    {
     "name": "stdout",
     "output_type": "stream",
     "text": [
      "Albert Einstein\n",
      "J.K. Rowling\n",
      "Albert Einstein\n",
      "Jane Austen\n",
      "Marilyn Monroe\n",
      "Albert Einstein\n",
      "André Gide\n",
      "Thomas A. Edison\n",
      "Eleanor Roosevelt\n",
      "Steve Martin\n"
     ]
    }
   ],
   "source": [
    "for author in soup.select(\".author\"):\n",
    "    print(author.text)"
   ]
  },
  {
   "cell_type": "code",
   "execution_count": 15,
   "id": "eaf35bbd",
   "metadata": {},
   "outputs": [
    {
     "name": "stdout",
     "output_type": "stream",
     "text": [
      "Albert Einstein:“The world as we have created it is a process of our thinking. It cannot be changed without changing our thinking.”\n",
      "\n",
      "J.K. Rowling:“It is our choices, Harry, that show what we truly are, far more than our abilities.”\n",
      "\n",
      "Albert Einstein:“There are only two ways to live your life. One is as though nothing is a miracle. The other is as though everything is a miracle.”\n",
      "\n",
      "Jane Austen:“The person, be it gentleman or lady, who has not pleasure in a good novel, must be intolerably stupid.”\n",
      "\n",
      "Marilyn Monroe:“Imperfection is beauty, madness is genius and it's better to be absolutely ridiculous than absolutely boring.”\n",
      "\n",
      "Albert Einstein:“Try not to become a man of success. Rather become a man of value.”\n",
      "\n",
      "André Gide:“It is better to be hated for what you are than to be loved for what you are not.”\n",
      "\n",
      "Thomas A. Edison:“I have not failed. I've just found 10,000 ways that won't work.”\n",
      "\n",
      "Eleanor Roosevelt:“A woman is like a tea bag; you never know how strong it is until it's in hot water.”\n",
      "\n",
      "Steve Martin:“A day without sunshine is like, you know, night.”\n",
      "\n"
     ]
    }
   ],
   "source": [
    "#add each author and their quote\n",
    "for i,author in enumerate(soup.select(\".author\")):\n",
    "    print(author.text +\":\" +soup.select(\".text\")[i].text + \"\\n\")"
   ]
  },
  {
   "cell_type": "markdown",
   "id": "442a4948",
   "metadata": {},
   "source": [
    "# TASK: Extract top ten tags shown on the top right of page"
   ]
  },
  {
   "cell_type": "code",
   "execution_count": 16,
   "id": "2ca11332",
   "metadata": {},
   "outputs": [
    {
     "data": {
      "text/plain": [
       "[<span class=\"tag-item\">\n",
       " <a class=\"tag\" href=\"/tag/love/\" style=\"font-size: 28px\">love</a>\n",
       " </span>,\n",
       " <span class=\"tag-item\">\n",
       " <a class=\"tag\" href=\"/tag/inspirational/\" style=\"font-size: 26px\">inspirational</a>\n",
       " </span>,\n",
       " <span class=\"tag-item\">\n",
       " <a class=\"tag\" href=\"/tag/life/\" style=\"font-size: 26px\">life</a>\n",
       " </span>,\n",
       " <span class=\"tag-item\">\n",
       " <a class=\"tag\" href=\"/tag/humor/\" style=\"font-size: 24px\">humor</a>\n",
       " </span>,\n",
       " <span class=\"tag-item\">\n",
       " <a class=\"tag\" href=\"/tag/books/\" style=\"font-size: 22px\">books</a>\n",
       " </span>,\n",
       " <span class=\"tag-item\">\n",
       " <a class=\"tag\" href=\"/tag/reading/\" style=\"font-size: 14px\">reading</a>\n",
       " </span>,\n",
       " <span class=\"tag-item\">\n",
       " <a class=\"tag\" href=\"/tag/friendship/\" style=\"font-size: 10px\">friendship</a>\n",
       " </span>,\n",
       " <span class=\"tag-item\">\n",
       " <a class=\"tag\" href=\"/tag/friends/\" style=\"font-size: 8px\">friends</a>\n",
       " </span>,\n",
       " <span class=\"tag-item\">\n",
       " <a class=\"tag\" href=\"/tag/truth/\" style=\"font-size: 8px\">truth</a>\n",
       " </span>,\n",
       " <span class=\"tag-item\">\n",
       " <a class=\"tag\" href=\"/tag/simile/\" style=\"font-size: 6px\">simile</a>\n",
       " </span>]"
      ]
     },
     "execution_count": 16,
     "metadata": {},
     "output_type": "execute_result"
    }
   ],
   "source": [
    "# class used for the tags\n",
    "soup.select('.tag-item')"
   ]
  },
  {
   "cell_type": "markdown",
   "id": "6489652d",
   "metadata": {},
   "source": [
    "Note that each tag text contains \\n at both ends of the string. So we'll use indexing and slicing to remove the newlines"
   ]
  },
  {
   "cell_type": "code",
   "execution_count": 17,
   "id": "d383d4cb",
   "metadata": {},
   "outputs": [
    {
     "data": {
      "text/plain": [
       "'\\nlove\\n'"
      ]
     },
     "execution_count": 17,
     "metadata": {},
     "output_type": "execute_result"
    }
   ],
   "source": [
    "soup.select(\".tag-item\")[0].text"
   ]
  },
  {
   "cell_type": "code",
   "execution_count": 18,
   "id": "9c841cf9",
   "metadata": {},
   "outputs": [
    {
     "data": {
      "text/plain": [
       "'love'"
      ]
     },
     "execution_count": 18,
     "metadata": {},
     "output_type": "execute_result"
    }
   ],
   "source": [
    "soup.select(\".tag-item\")[0].text[1: -1]"
   ]
  },
  {
   "cell_type": "code",
   "execution_count": 19,
   "id": "fdb76ac4",
   "metadata": {},
   "outputs": [
    {
     "name": "stdout",
     "output_type": "stream",
     "text": [
      "1 : love\n",
      "2 : inspirational\n",
      "3 : life\n",
      "4 : humor\n",
      "5 : books\n",
      "6 : reading\n",
      "7 : friendship\n",
      "8 : friends\n",
      "9 : truth\n",
      "10 : simile\n"
     ]
    }
   ],
   "source": [
    "for i,item in enumerate(soup.select(\".tag-item\")):\n",
    "    print(i+1, \":\", item.text[1:-1]) ## slicing used to remove newlines"
   ]
  },
  {
   "cell_type": "code",
   "execution_count": null,
   "id": "a03f0273",
   "metadata": {},
   "outputs": [],
   "source": []
  }
 ],
 "metadata": {
  "kernelspec": {
   "display_name": "Python 3",
   "language": "python",
   "name": "python3"
  },
  "language_info": {
   "codemirror_mode": {
    "name": "ipython",
    "version": 3
   },
   "file_extension": ".py",
   "mimetype": "text/x-python",
   "name": "python",
   "nbconvert_exporter": "python",
   "pygments_lexer": "ipython3",
   "version": "3.8.8"
  }
 },
 "nbformat": 4,
 "nbformat_minor": 5
}
